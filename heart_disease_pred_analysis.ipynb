{
  "nbformat": 4,
  "nbformat_minor": 0,
  "metadata": {
    "colab": {
      "provenance": [],
      "authorship_tag": "ABX9TyPv2XWjeJVpJnp8sEMT+KOo"
    },
    "kernelspec": {
      "name": "python3",
      "display_name": "Python 3"
    },
    "language_info": {
      "name": "python"
    }
  },
  "cells": [
    {
      "cell_type": "markdown",
      "source": [
        "# Load Data"
      ],
      "metadata": {
        "id": "SwVrACQoWcyS"
      }
    },
    {
      "cell_type": "code",
      "execution_count": null,
      "metadata": {
        "colab": {
          "base_uri": "https://localhost:8080/",
          "height": 411
        },
        "id": "fJ8-Mo5_UZcd",
        "outputId": "87354186-1d04-4f9c-c863-4851c7111f25"
      },
      "outputs": [
        {
          "output_type": "execute_result",
          "data": {
            "text/plain": [
              "          id    age  gender  height  weight  ap_hi  ap_lo  cholesterol  gluc  \\\n",
              "0          0  18393       2     168    62.0    110     80            1     1   \n",
              "1          1  20228       1     156    85.0    140     90            3     1   \n",
              "2          2  18857       1     165    64.0    130     70            3     1   \n",
              "3          3  17623       2     169    82.0    150    100            1     1   \n",
              "4          4  17474       1     156    56.0    100     60            1     1   \n",
              "...      ...    ...     ...     ...     ...    ...    ...          ...   ...   \n",
              "69995  99993  19240       2     168    76.0    120     80            1     1   \n",
              "69996  99995  22601       1     158   126.0    140     90            2     2   \n",
              "69997  99996  19066       2     183   105.0    180     90            3     1   \n",
              "69998  99998  22431       1     163    72.0    135     80            1     2   \n",
              "69999  99999  20540       1     170    72.0    120     80            2     1   \n",
              "\n",
              "       smoke  alco  active  cardio  \n",
              "0          0     0       1       0  \n",
              "1          0     0       1       1  \n",
              "2          0     0       0       1  \n",
              "3          0     0       1       1  \n",
              "4          0     0       0       0  \n",
              "...      ...   ...     ...     ...  \n",
              "69995      1     0       1       0  \n",
              "69996      0     0       1       1  \n",
              "69997      0     1       0       1  \n",
              "69998      0     0       0       1  \n",
              "69999      0     0       1       0  \n",
              "\n",
              "[70000 rows x 13 columns]"
            ],
            "text/html": [
              "\n",
              "  <div id=\"df-61949114-6a51-4296-b201-565a286d53d2\" class=\"colab-df-container\">\n",
              "    <div>\n",
              "<style scoped>\n",
              "    .dataframe tbody tr th:only-of-type {\n",
              "        vertical-align: middle;\n",
              "    }\n",
              "\n",
              "    .dataframe tbody tr th {\n",
              "        vertical-align: top;\n",
              "    }\n",
              "\n",
              "    .dataframe thead th {\n",
              "        text-align: right;\n",
              "    }\n",
              "</style>\n",
              "<table border=\"1\" class=\"dataframe\">\n",
              "  <thead>\n",
              "    <tr style=\"text-align: right;\">\n",
              "      <th></th>\n",
              "      <th>id</th>\n",
              "      <th>age</th>\n",
              "      <th>gender</th>\n",
              "      <th>height</th>\n",
              "      <th>weight</th>\n",
              "      <th>ap_hi</th>\n",
              "      <th>ap_lo</th>\n",
              "      <th>cholesterol</th>\n",
              "      <th>gluc</th>\n",
              "      <th>smoke</th>\n",
              "      <th>alco</th>\n",
              "      <th>active</th>\n",
              "      <th>cardio</th>\n",
              "    </tr>\n",
              "  </thead>\n",
              "  <tbody>\n",
              "    <tr>\n",
              "      <th>0</th>\n",
              "      <td>0</td>\n",
              "      <td>18393</td>\n",
              "      <td>2</td>\n",
              "      <td>168</td>\n",
              "      <td>62.0</td>\n",
              "      <td>110</td>\n",
              "      <td>80</td>\n",
              "      <td>1</td>\n",
              "      <td>1</td>\n",
              "      <td>0</td>\n",
              "      <td>0</td>\n",
              "      <td>1</td>\n",
              "      <td>0</td>\n",
              "    </tr>\n",
              "    <tr>\n",
              "      <th>1</th>\n",
              "      <td>1</td>\n",
              "      <td>20228</td>\n",
              "      <td>1</td>\n",
              "      <td>156</td>\n",
              "      <td>85.0</td>\n",
              "      <td>140</td>\n",
              "      <td>90</td>\n",
              "      <td>3</td>\n",
              "      <td>1</td>\n",
              "      <td>0</td>\n",
              "      <td>0</td>\n",
              "      <td>1</td>\n",
              "      <td>1</td>\n",
              "    </tr>\n",
              "    <tr>\n",
              "      <th>2</th>\n",
              "      <td>2</td>\n",
              "      <td>18857</td>\n",
              "      <td>1</td>\n",
              "      <td>165</td>\n",
              "      <td>64.0</td>\n",
              "      <td>130</td>\n",
              "      <td>70</td>\n",
              "      <td>3</td>\n",
              "      <td>1</td>\n",
              "      <td>0</td>\n",
              "      <td>0</td>\n",
              "      <td>0</td>\n",
              "      <td>1</td>\n",
              "    </tr>\n",
              "    <tr>\n",
              "      <th>3</th>\n",
              "      <td>3</td>\n",
              "      <td>17623</td>\n",
              "      <td>2</td>\n",
              "      <td>169</td>\n",
              "      <td>82.0</td>\n",
              "      <td>150</td>\n",
              "      <td>100</td>\n",
              "      <td>1</td>\n",
              "      <td>1</td>\n",
              "      <td>0</td>\n",
              "      <td>0</td>\n",
              "      <td>1</td>\n",
              "      <td>1</td>\n",
              "    </tr>\n",
              "    <tr>\n",
              "      <th>4</th>\n",
              "      <td>4</td>\n",
              "      <td>17474</td>\n",
              "      <td>1</td>\n",
              "      <td>156</td>\n",
              "      <td>56.0</td>\n",
              "      <td>100</td>\n",
              "      <td>60</td>\n",
              "      <td>1</td>\n",
              "      <td>1</td>\n",
              "      <td>0</td>\n",
              "      <td>0</td>\n",
              "      <td>0</td>\n",
              "      <td>0</td>\n",
              "    </tr>\n",
              "    <tr>\n",
              "      <th>...</th>\n",
              "      <td>...</td>\n",
              "      <td>...</td>\n",
              "      <td>...</td>\n",
              "      <td>...</td>\n",
              "      <td>...</td>\n",
              "      <td>...</td>\n",
              "      <td>...</td>\n",
              "      <td>...</td>\n",
              "      <td>...</td>\n",
              "      <td>...</td>\n",
              "      <td>...</td>\n",
              "      <td>...</td>\n",
              "      <td>...</td>\n",
              "    </tr>\n",
              "    <tr>\n",
              "      <th>69995</th>\n",
              "      <td>99993</td>\n",
              "      <td>19240</td>\n",
              "      <td>2</td>\n",
              "      <td>168</td>\n",
              "      <td>76.0</td>\n",
              "      <td>120</td>\n",
              "      <td>80</td>\n",
              "      <td>1</td>\n",
              "      <td>1</td>\n",
              "      <td>1</td>\n",
              "      <td>0</td>\n",
              "      <td>1</td>\n",
              "      <td>0</td>\n",
              "    </tr>\n",
              "    <tr>\n",
              "      <th>69996</th>\n",
              "      <td>99995</td>\n",
              "      <td>22601</td>\n",
              "      <td>1</td>\n",
              "      <td>158</td>\n",
              "      <td>126.0</td>\n",
              "      <td>140</td>\n",
              "      <td>90</td>\n",
              "      <td>2</td>\n",
              "      <td>2</td>\n",
              "      <td>0</td>\n",
              "      <td>0</td>\n",
              "      <td>1</td>\n",
              "      <td>1</td>\n",
              "    </tr>\n",
              "    <tr>\n",
              "      <th>69997</th>\n",
              "      <td>99996</td>\n",
              "      <td>19066</td>\n",
              "      <td>2</td>\n",
              "      <td>183</td>\n",
              "      <td>105.0</td>\n",
              "      <td>180</td>\n",
              "      <td>90</td>\n",
              "      <td>3</td>\n",
              "      <td>1</td>\n",
              "      <td>0</td>\n",
              "      <td>1</td>\n",
              "      <td>0</td>\n",
              "      <td>1</td>\n",
              "    </tr>\n",
              "    <tr>\n",
              "      <th>69998</th>\n",
              "      <td>99998</td>\n",
              "      <td>22431</td>\n",
              "      <td>1</td>\n",
              "      <td>163</td>\n",
              "      <td>72.0</td>\n",
              "      <td>135</td>\n",
              "      <td>80</td>\n",
              "      <td>1</td>\n",
              "      <td>2</td>\n",
              "      <td>0</td>\n",
              "      <td>0</td>\n",
              "      <td>0</td>\n",
              "      <td>1</td>\n",
              "    </tr>\n",
              "    <tr>\n",
              "      <th>69999</th>\n",
              "      <td>99999</td>\n",
              "      <td>20540</td>\n",
              "      <td>1</td>\n",
              "      <td>170</td>\n",
              "      <td>72.0</td>\n",
              "      <td>120</td>\n",
              "      <td>80</td>\n",
              "      <td>2</td>\n",
              "      <td>1</td>\n",
              "      <td>0</td>\n",
              "      <td>0</td>\n",
              "      <td>1</td>\n",
              "      <td>0</td>\n",
              "    </tr>\n",
              "  </tbody>\n",
              "</table>\n",
              "<p>70000 rows × 13 columns</p>\n",
              "</div>\n",
              "    <div class=\"colab-df-buttons\">\n",
              "\n",
              "  <div class=\"colab-df-container\">\n",
              "    <button class=\"colab-df-convert\" onclick=\"convertToInteractive('df-61949114-6a51-4296-b201-565a286d53d2')\"\n",
              "            title=\"Convert this dataframe to an interactive table.\"\n",
              "            style=\"display:none;\">\n",
              "\n",
              "  <svg xmlns=\"http://www.w3.org/2000/svg\" height=\"24px\" viewBox=\"0 -960 960 960\">\n",
              "    <path d=\"M120-120v-720h720v720H120Zm60-500h600v-160H180v160Zm220 220h160v-160H400v160Zm0 220h160v-160H400v160ZM180-400h160v-160H180v160Zm440 0h160v-160H620v160ZM180-180h160v-160H180v160Zm440 0h160v-160H620v160Z\"/>\n",
              "  </svg>\n",
              "    </button>\n",
              "\n",
              "  <style>\n",
              "    .colab-df-container {\n",
              "      display:flex;\n",
              "      gap: 12px;\n",
              "    }\n",
              "\n",
              "    .colab-df-convert {\n",
              "      background-color: #E8F0FE;\n",
              "      border: none;\n",
              "      border-radius: 50%;\n",
              "      cursor: pointer;\n",
              "      display: none;\n",
              "      fill: #1967D2;\n",
              "      height: 32px;\n",
              "      padding: 0 0 0 0;\n",
              "      width: 32px;\n",
              "    }\n",
              "\n",
              "    .colab-df-convert:hover {\n",
              "      background-color: #E2EBFA;\n",
              "      box-shadow: 0px 1px 2px rgba(60, 64, 67, 0.3), 0px 1px 3px 1px rgba(60, 64, 67, 0.15);\n",
              "      fill: #174EA6;\n",
              "    }\n",
              "\n",
              "    .colab-df-buttons div {\n",
              "      margin-bottom: 4px;\n",
              "    }\n",
              "\n",
              "    [theme=dark] .colab-df-convert {\n",
              "      background-color: #3B4455;\n",
              "      fill: #D2E3FC;\n",
              "    }\n",
              "\n",
              "    [theme=dark] .colab-df-convert:hover {\n",
              "      background-color: #434B5C;\n",
              "      box-shadow: 0px 1px 3px 1px rgba(0, 0, 0, 0.15);\n",
              "      filter: drop-shadow(0px 1px 2px rgba(0, 0, 0, 0.3));\n",
              "      fill: #FFFFFF;\n",
              "    }\n",
              "  </style>\n",
              "\n",
              "    <script>\n",
              "      const buttonEl =\n",
              "        document.querySelector('#df-61949114-6a51-4296-b201-565a286d53d2 button.colab-df-convert');\n",
              "      buttonEl.style.display =\n",
              "        google.colab.kernel.accessAllowed ? 'block' : 'none';\n",
              "\n",
              "      async function convertToInteractive(key) {\n",
              "        const element = document.querySelector('#df-61949114-6a51-4296-b201-565a286d53d2');\n",
              "        const dataTable =\n",
              "          await google.colab.kernel.invokeFunction('convertToInteractive',\n",
              "                                                    [key], {});\n",
              "        if (!dataTable) return;\n",
              "\n",
              "        const docLinkHtml = 'Like what you see? Visit the ' +\n",
              "          '<a target=\"_blank\" href=https://colab.research.google.com/notebooks/data_table.ipynb>data table notebook</a>'\n",
              "          + ' to learn more about interactive tables.';\n",
              "        element.innerHTML = '';\n",
              "        dataTable['output_type'] = 'display_data';\n",
              "        await google.colab.output.renderOutput(dataTable, element);\n",
              "        const docLink = document.createElement('div');\n",
              "        docLink.innerHTML = docLinkHtml;\n",
              "        element.appendChild(docLink);\n",
              "      }\n",
              "    </script>\n",
              "  </div>\n",
              "\n",
              "\n",
              "<div id=\"df-e473b457-b9a1-4b68-8337-2bdd2728ea6e\">\n",
              "  <button class=\"colab-df-quickchart\" onclick=\"quickchart('df-e473b457-b9a1-4b68-8337-2bdd2728ea6e')\"\n",
              "            title=\"Suggest charts.\"\n",
              "            style=\"display:none;\">\n",
              "\n",
              "<svg xmlns=\"http://www.w3.org/2000/svg\" height=\"24px\"viewBox=\"0 0 24 24\"\n",
              "     width=\"24px\">\n",
              "    <g>\n",
              "        <path d=\"M19 3H5c-1.1 0-2 .9-2 2v14c0 1.1.9 2 2 2h14c1.1 0 2-.9 2-2V5c0-1.1-.9-2-2-2zM9 17H7v-7h2v7zm4 0h-2V7h2v10zm4 0h-2v-4h2v4z\"/>\n",
              "    </g>\n",
              "</svg>\n",
              "  </button>\n",
              "\n",
              "<style>\n",
              "  .colab-df-quickchart {\n",
              "      --bg-color: #E8F0FE;\n",
              "      --fill-color: #1967D2;\n",
              "      --hover-bg-color: #E2EBFA;\n",
              "      --hover-fill-color: #174EA6;\n",
              "      --disabled-fill-color: #AAA;\n",
              "      --disabled-bg-color: #DDD;\n",
              "  }\n",
              "\n",
              "  [theme=dark] .colab-df-quickchart {\n",
              "      --bg-color: #3B4455;\n",
              "      --fill-color: #D2E3FC;\n",
              "      --hover-bg-color: #434B5C;\n",
              "      --hover-fill-color: #FFFFFF;\n",
              "      --disabled-bg-color: #3B4455;\n",
              "      --disabled-fill-color: #666;\n",
              "  }\n",
              "\n",
              "  .colab-df-quickchart {\n",
              "    background-color: var(--bg-color);\n",
              "    border: none;\n",
              "    border-radius: 50%;\n",
              "    cursor: pointer;\n",
              "    display: none;\n",
              "    fill: var(--fill-color);\n",
              "    height: 32px;\n",
              "    padding: 0;\n",
              "    width: 32px;\n",
              "  }\n",
              "\n",
              "  .colab-df-quickchart:hover {\n",
              "    background-color: var(--hover-bg-color);\n",
              "    box-shadow: 0 1px 2px rgba(60, 64, 67, 0.3), 0 1px 3px 1px rgba(60, 64, 67, 0.15);\n",
              "    fill: var(--button-hover-fill-color);\n",
              "  }\n",
              "\n",
              "  .colab-df-quickchart-complete:disabled,\n",
              "  .colab-df-quickchart-complete:disabled:hover {\n",
              "    background-color: var(--disabled-bg-color);\n",
              "    fill: var(--disabled-fill-color);\n",
              "    box-shadow: none;\n",
              "  }\n",
              "\n",
              "  .colab-df-spinner {\n",
              "    border: 2px solid var(--fill-color);\n",
              "    border-color: transparent;\n",
              "    border-bottom-color: var(--fill-color);\n",
              "    animation:\n",
              "      spin 1s steps(1) infinite;\n",
              "  }\n",
              "\n",
              "  @keyframes spin {\n",
              "    0% {\n",
              "      border-color: transparent;\n",
              "      border-bottom-color: var(--fill-color);\n",
              "      border-left-color: var(--fill-color);\n",
              "    }\n",
              "    20% {\n",
              "      border-color: transparent;\n",
              "      border-left-color: var(--fill-color);\n",
              "      border-top-color: var(--fill-color);\n",
              "    }\n",
              "    30% {\n",
              "      border-color: transparent;\n",
              "      border-left-color: var(--fill-color);\n",
              "      border-top-color: var(--fill-color);\n",
              "      border-right-color: var(--fill-color);\n",
              "    }\n",
              "    40% {\n",
              "      border-color: transparent;\n",
              "      border-right-color: var(--fill-color);\n",
              "      border-top-color: var(--fill-color);\n",
              "    }\n",
              "    60% {\n",
              "      border-color: transparent;\n",
              "      border-right-color: var(--fill-color);\n",
              "    }\n",
              "    80% {\n",
              "      border-color: transparent;\n",
              "      border-right-color: var(--fill-color);\n",
              "      border-bottom-color: var(--fill-color);\n",
              "    }\n",
              "    90% {\n",
              "      border-color: transparent;\n",
              "      border-bottom-color: var(--fill-color);\n",
              "    }\n",
              "  }\n",
              "</style>\n",
              "\n",
              "  <script>\n",
              "    async function quickchart(key) {\n",
              "      const quickchartButtonEl =\n",
              "        document.querySelector('#' + key + ' button');\n",
              "      quickchartButtonEl.disabled = true;  // To prevent multiple clicks.\n",
              "      quickchartButtonEl.classList.add('colab-df-spinner');\n",
              "      try {\n",
              "        const charts = await google.colab.kernel.invokeFunction(\n",
              "            'suggestCharts', [key], {});\n",
              "      } catch (error) {\n",
              "        console.error('Error during call to suggestCharts:', error);\n",
              "      }\n",
              "      quickchartButtonEl.classList.remove('colab-df-spinner');\n",
              "      quickchartButtonEl.classList.add('colab-df-quickchart-complete');\n",
              "    }\n",
              "    (() => {\n",
              "      let quickchartButtonEl =\n",
              "        document.querySelector('#df-e473b457-b9a1-4b68-8337-2bdd2728ea6e button');\n",
              "      quickchartButtonEl.style.display =\n",
              "        google.colab.kernel.accessAllowed ? 'block' : 'none';\n",
              "    })();\n",
              "  </script>\n",
              "</div>\n",
              "    </div>\n",
              "  </div>\n"
            ]
          },
          "metadata": {},
          "execution_count": 7
        }
      ],
      "source": [
        "# The goal of this predictive analysis is to be able to take predict the if someone is likely to\n",
        "# Heart Disease or not.\n",
        "\n",
        "# Load into a dataframe, set the header as row 0 of the dataset\n",
        "import pandas as pd\n",
        "\n",
        "# The dataset was obtained from Kaggle ==> # https://www.kaggle.com/datasets/sulianova/cardiovascular-disease-dataset\n",
        "# The file is a semi-colon separated file, so we'll use sep=';'\n",
        "heart_disease_df = pd.read_csv('heart_disease.csv', header=[0], sep=';')"
      ]
    },
    {
      "cell_type": "markdown",
      "source": [
        "# Data Transformation"
      ],
      "metadata": {
        "id": "nTYStW6pWbQ1"
      }
    },
    {
      "cell_type": "code",
      "source": [
        "# Some of the columns names are a little bit ambiguous, so we're going to flesh them out a little bit.\n",
        "# According to the dataset:\n",
        "#   ap_h1 is the Systolic Blood Pressure, ap_lo is the Diastolic blood pressure, 'smoke' identifies whether they're a smoker or not.\n",
        "#   and cardio is the presence or absence of cardiovasculaer disease, 'alco' means 'Alcohol intake', and 'gluc' means 'glucose'\n",
        "# We'll use inplace set to True to replace the df instead of creating a new one\n",
        "heart_disease_df.rename(columns={'ap_hi': 'systolic_bp', 'ap_lo': 'diastolic_bp', 'gluc': 'glucose', 'smoke': 'smoker', 'alco': 'alcohol_intake', \\\n",
        "                                 'cardio': 'heart_disease'}, inplace=True)"
      ],
      "metadata": {
        "colab": {
          "base_uri": "https://localhost:8080/"
        },
        "id": "epEPAf8YWYaz",
        "outputId": "e23f50f8-67ff-4f74-d910-cbed32dd19cc"
      },
      "execution_count": null,
      "outputs": [
        {
          "output_type": "stream",
          "name": "stdout",
          "text": [
            "          id    age  gender  height  weight  systolic_bp  diastolic_bp  \\\n",
            "0          0  18393       2     168    62.0          110            80   \n",
            "1          1  20228       1     156    85.0          140            90   \n",
            "2          2  18857       1     165    64.0          130            70   \n",
            "3          3  17623       2     169    82.0          150           100   \n",
            "4          4  17474       1     156    56.0          100            60   \n",
            "...      ...    ...     ...     ...     ...          ...           ...   \n",
            "69995  99993  19240       2     168    76.0          120            80   \n",
            "69996  99995  22601       1     158   126.0          140            90   \n",
            "69997  99996  19066       2     183   105.0          180            90   \n",
            "69998  99998  22431       1     163    72.0          135            80   \n",
            "69999  99999  20540       1     170    72.0          120            80   \n",
            "\n",
            "       cholesterol  glucose  smoker  alcohol_intake  active  heart_disease  \n",
            "0                1        1       0               0       1              0  \n",
            "1                3        1       0               0       1              1  \n",
            "2                3        1       0               0       0              1  \n",
            "3                1        1       0               0       1              1  \n",
            "4                1        1       0               0       0              0  \n",
            "...            ...      ...     ...             ...     ...            ...  \n",
            "69995            1        1       1               0       1              0  \n",
            "69996            2        2       0               0       1              1  \n",
            "69997            3        1       0               1       0              1  \n",
            "69998            1        2       0               0       0              1  \n",
            "69999            2        1       0               0       1              0  \n",
            "\n",
            "[70000 rows x 13 columns]\n"
          ]
        }
      ]
    },
    {
      "cell_type": "code",
      "source": [
        "# We can't make predictions if there are missing values, so first check if there are any missing values.\n",
        "any_missing_values = heart_disease_df.isnull().any().any()\n",
        "# print(any_missing_values) //Output: False"
      ],
      "metadata": {
        "colab": {
          "base_uri": "https://localhost:8080/"
        },
        "id": "GdX2OiAmYSIs",
        "outputId": "5ffff9fa-ee95-4847-e40e-51b157ad1f25"
      },
      "execution_count": null,
      "outputs": [
        {
          "output_type": "stream",
          "name": "stdout",
          "text": [
            "False\n"
          ]
        }
      ]
    },
    {
      "cell_type": "markdown",
      "source": [
        "# Feature Engineering"
      ],
      "metadata": {
        "id": "ZwR0OcrRcJMw"
      }
    },
    {
      "cell_type": "code",
      "source": [
        "# For this prediction, our label will be the heart_disease column. As such, we can get rid of the id as it has no effect on the label.\n",
        "heart_disease_df_2 = heart_disease_df.drop(['id'], axis=1, inplace=False)\n",
        "\n",
        "# Now we can get our features and corresponding labels\n",
        "# We'll use axis one to drop columns as opposed to rows\n",
        "X = heart_disease_df_2.drop(['heart_disease'], axis=1)\n",
        "y = heart_disease_df_2['heart_disease']"
      ],
      "metadata": {
        "colab": {
          "base_uri": "https://localhost:8080/"
        },
        "id": "V2GNJw_OaAFT",
        "outputId": "cb9a81ad-ce6e-4cc4-8d65-3bfa7c8c9a5a"
      },
      "execution_count": null,
      "outputs": [
        {
          "output_type": "stream",
          "name": "stdout",
          "text": [
            "         age  gender  height  weight  systolic_bp  diastolic_bp  cholesterol  \\\n",
            "0      18393       2     168    62.0          110            80            1   \n",
            "1      20228       1     156    85.0          140            90            3   \n",
            "2      18857       1     165    64.0          130            70            3   \n",
            "3      17623       2     169    82.0          150           100            1   \n",
            "4      17474       1     156    56.0          100            60            1   \n",
            "...      ...     ...     ...     ...          ...           ...          ...   \n",
            "69995  19240       2     168    76.0          120            80            1   \n",
            "69996  22601       1     158   126.0          140            90            2   \n",
            "69997  19066       2     183   105.0          180            90            3   \n",
            "69998  22431       1     163    72.0          135            80            1   \n",
            "69999  20540       1     170    72.0          120            80            2   \n",
            "\n",
            "       glucose  smoker  alcohol_intake  active  \n",
            "0            1       0               0       1  \n",
            "1            1       0               0       1  \n",
            "2            1       0               0       0  \n",
            "3            1       0               0       1  \n",
            "4            1       0               0       0  \n",
            "...        ...     ...             ...     ...  \n",
            "69995        1       1               0       1  \n",
            "69996        2       0               0       1  \n",
            "69997        1       0               1       0  \n",
            "69998        2       0               0       0  \n",
            "69999        1       0               0       1  \n",
            "\n",
            "[70000 rows x 11 columns] 0        0\n",
            "1        1\n",
            "2        1\n",
            "3        1\n",
            "4        0\n",
            "        ..\n",
            "69995    0\n",
            "69996    1\n",
            "69997    1\n",
            "69998    1\n",
            "69999    0\n",
            "Name: heart_disease, Length: 70000, dtype: int64\n"
          ]
        }
      ]
    },
    {
      "cell_type": "code",
      "source": [
        "\"\"\"\n",
        "# To ensure the best quality features, reduce dimensionality, etc. we're going to now apply Principal Component Analysis (PCA)\n",
        "# Which is a process whereby the features are standardized to a given scale, a covariance matrix is created to understand how different\n",
        "features relate to one another. Next eigendecomposition is done to get a set of eigenvectors and eigenvalues The eigenvectors tells us\n",
        "the direction in which the data varies most, and the eigenvalues indicate the magnitude of the variance in that direction. The eigenvectors\n",
        "are sorted in descending order based on their eigenvalues, and the top eigenvectors are selected given that they represent the most amount\n",
        "of variance. The original data is then projected onto the new feature space formed by the selected principal components.\n",
        "This transformation results in a new set of uncorrelated features.\n",
        "\"\"\"\n",
        "from sklearn.preprocessing import StandardScaler\n",
        "from sklearn.decomposition import PCA\n",
        "\n",
        "X = StandardScaler().fit_transform(X)\n",
        "pca = PCA(n_components=11)\n",
        "X2 = pca.fit_transform(X)"
      ],
      "metadata": {
        "colab": {
          "base_uri": "https://localhost:8080/"
        },
        "id": "HjQCkUwFcGmE",
        "outputId": "8a4101d5-dd98-4207-c8bf-98aa2e38c6bd"
      },
      "execution_count": null,
      "outputs": [
        {
          "output_type": "stream",
          "name": "stdout",
          "text": [
            "[[ 0.07011957 -0.55294217 -0.51915679 -0.31002063 -0.01623797 -0.03262863\n",
            "  -0.01244998 -0.01378165 -0.45257172 -0.34193825 -0.01689619]\n",
            " [ 0.32212689 -0.06822046 -0.05644645  0.26387326  0.06585638  0.06777236\n",
            "   0.65065812  0.62022967 -0.03814994  0.01553161 -0.00986399]\n",
            " [ 0.05511639  0.1283084   0.3959397   0.42093512  0.10812844  0.09119463\n",
            "  -0.11225121 -0.07867406 -0.44909592 -0.57788198 -0.26853606]\n",
            " [ 0.12858416 -0.04057018 -0.08464986  0.02139275  0.62851867  0.6824778\n",
            "  -0.07390193 -0.14777645  0.02186032  0.07182691  0.28363516]\n",
            " [ 0.11720458 -0.03016783 -0.12075386 -0.09662547  0.45989219 -0.1577958\n",
            "  -0.03195694 -0.04131143  0.14062991  0.19397056 -0.81541734]\n",
            " [-0.03895064  0.03002061  0.07057044  0.01383003  0.59033996 -0.67926337\n",
            "   0.01739532  0.02315396 -0.05082894 -0.09411407  0.41258989]\n",
            " [-0.91216124 -0.11311269  0.02797816  0.00410694  0.15765003  0.14404625\n",
            "   0.14575282  0.27242591 -0.05004448 -0.01655463 -0.10259932]\n",
            " [-0.06626817 -0.43111359 -0.14741013  0.72390209 -0.05980456 -0.11171219\n",
            "  -0.08791317 -0.23994621 -0.10394071  0.41367102  0.02644124]\n",
            " [-0.05268037 -0.10350588 -0.28762357  0.26615944 -0.00818255 -0.01271697\n",
            "   0.05181087 -0.1182533   0.70047428 -0.5703936  -0.00576   ]\n",
            " [ 0.08989078 -0.10297059 -0.02606889  0.0933936   0.01144463  0.01181278\n",
            "  -0.72203815  0.66195087  0.10695915 -0.00504716  0.02569932]\n",
            " [-0.09595087  0.67060479 -0.66172129  0.20849946 -0.0064536  -0.02052868\n",
            "  -0.06408795  0.03003567 -0.2319169   0.0218214   0.00120103]]\n"
          ]
        }
      ]
    },
    {
      "cell_type": "code",
      "source": [
        "import numpy as np\n",
        "import matplotlib\n",
        "import matplotlib.pyplot as plt\n",
        "# Now we need to out how many components we actually need. To do this, we'll find the elbow point a graph the variance over the principal component\n",
        "# To check the contribution of each component we can run this next line of code\n",
        "np.set_printoptions(suppress=True)\n",
        "\n",
        "# We can also visualise it to see a little better\n",
        "pc_vs_variance = np.cumsum(pca.explained_variance_ratio_)\n",
        "\n",
        "plt.plot(pc_vs_variance)\n",
        "\n",
        "# The lack of an elbow point in the cumulative explained variance graph suggests a somewhat consistent level of contribution across the components"
      ],
      "metadata": {
        "colab": {
          "base_uri": "https://localhost:8080/",
          "height": 478
        },
        "id": "oEgTdgbx0m8j",
        "outputId": "fdea03f7-bcf7-4bd7-db34-a0675c780201"
      },
      "execution_count": null,
      "outputs": [
        {
          "output_type": "stream",
          "name": "stdout",
          "text": [
            "[0.17645335 0.14341115 0.10308888 0.09237881 0.08992198 0.08934537\n",
            " 0.08496648 0.07357909 0.0569561  0.04901013 0.04088864]\n"
          ]
        },
        {
          "output_type": "execute_result",
          "data": {
            "text/plain": [
              "[<matplotlib.lines.Line2D at 0x782eb98587c0>]"
            ]
          },
          "metadata": {},
          "execution_count": 68
        },
        {
          "output_type": "display_data",
          "data": {
            "text/plain": [
              "<Figure size 640x480 with 1 Axes>"
            ],
            "image/png": "[encoded data removed]"
          },
          "metadata": {}
        }
      ]
    },
    {
      "cell_type": "markdown",
      "source": [
        "# Supervised Machine Learning"
      ],
      "metadata": {
        "id": "tpQ9bvtv40mU"
      }
    },
    {
      "cell_type": "code",
      "source": [
        "\"\"\"\n",
        "We'll be using the Bagging Meta-estimator because of it's efforts in reducing overfitting and the variance of the base estimators,\n",
        "improving the stability and robustness of the ensemble. More on that here ==>\n",
        "https://www.linkedin.com/advice/1/what-pros-cons-using-ensemble-methods-ml-skills-algorithms\n",
        "\"\"\"\n",
        "from sklearn.ensemble import BaggingClassifier\n",
        "from sklearn.neighbors import KNeighborsClassifier\n",
        "\n",
        "\n",
        "from sklearn.metrics import mean_squared_error, r2_score\n",
        "from sklearn.model_selection import train_test_split\n",
        "\"\"\"\n",
        "Now we want to prepare our data by splitting it into two parts. We want one part to be used for training the classifier into a suitable\n",
        "model to make predictions for us, and we want to use the remaining samples as test samples to make predictions and test our model. Random_state\n",
        "controls the shuffling applied to the data before applying the split.\n",
        "\"\"\"\n",
        "X_train, X_test, y_train, y_test = train_test_split(X, y, test_size=0.20, random_state=42)\n",
        "# Now we want to fit PCA on the training data\n",
        "pca = PCA(n_components=11)\n",
        "pca.fit(X_train)\n",
        "X_train_2 = pca.transform(X_train)\n",
        "\"\"\"\n",
        "Bagging, or bootstrap aggregating, involves creating multiple models from different subsets of the training data, and then averaging\n",
        "or voting their predictions. max_samples is the max number of samples to draw from X to train each base estimator. Max_features number\n",
        "of features to use to train each base estimator. Because the numbers are floats it'll use 50% of the samples and 50% of the features.\n",
        "KNeighborsClassifier is the base estimator to fit on random subsets of the dataset, it works by finding the k nearest neighbour(s) the\n",
        "new data point is closest to, and uses their classes to predict what the class of the new data point should be.\n",
        "\"\"\"\n",
        "\n",
        "bagging_clf = BaggingClassifier(KNeighborsClassifier(),\n",
        "                            max_samples=0.5, max_features=0.5)\n",
        "\n",
        "# Now we need to train our model, based on the traine\n",
        "bagging_clf.fit(X_train_2,y_train)"
      ],
      "metadata": {
        "colab": {
          "base_uri": "https://localhost:8080/",
          "height": 116
        },
        "id": "_CrWo6nthmvz",
        "outputId": "ed6a4c5c-e7e8-4f89-e7fb-2f8a02f583ec"
      },
      "execution_count": null,
      "outputs": [
        {
          "output_type": "execute_result",
          "data": {
            "text/plain": [
              "BaggingClassifier(estimator=KNeighborsClassifier(), max_features=0.5,\n",
              "                  max_samples=0.5)"
            ],
            "text/html": [
              "<style>#sk-container-id-3 {color: black;background-color: white;}#sk-container-id-3 pre{padding: 0;}#sk-container-id-3 div.sk-toggleable {background-color: white;}#sk-container-id-3 label.sk-toggleable__label {cursor: pointer;display: block;width: 100%;margin-bottom: 0;padding: 0.3em;box-sizing: border-box;text-align: center;}#sk-container-id-3 label.sk-toggleable__label-arrow:before {content: \"▸\";float: left;margin-right: 0.25em;color: #696969;}#sk-container-id-3 label.sk-toggleable__label-arrow:hover:before {color: black;}#sk-container-id-3 div.sk-estimator:hover label.sk-toggleable__label-arrow:before {color: black;}#sk-container-id-3 div.sk-toggleable__content {max-height: 0;max-width: 0;overflow: hidden;text-align: left;background-color: #f0f8ff;}#sk-container-id-3 div.sk-toggleable__content pre {margin: 0.2em;color: black;border-radius: 0.25em;background-color: #f0f8ff;}#sk-container-id-3 input.sk-toggleable__control:checked~div.sk-toggleable__content {max-height: 200px;max-width: 100%;overflow: auto;}#sk-container-id-3 input.sk-toggleable__control:checked~label.sk-toggleable__label-arrow:before {content: \"▾\";}#sk-container-id-3 div.sk-estimator input.sk-toggleable__control:checked~label.sk-toggleable__label {background-color: #d4ebff;}#sk-container-id-3 div.sk-label input.sk-toggleable__control:checked~label.sk-toggleable__label {background-color: #d4ebff;}#sk-container-id-3 input.sk-hidden--visually {border: 0;clip: rect(1px 1px 1px 1px);clip: rect(1px, 1px, 1px, 1px);height: 1px;margin: -1px;overflow: hidden;padding: 0;position: absolute;width: 1px;}#sk-container-id-3 div.sk-estimator {font-family: monospace;background-color: #f0f8ff;border: 1px dotted black;border-radius: 0.25em;box-sizing: border-box;margin-bottom: 0.5em;}#sk-container-id-3 div.sk-estimator:hover {background-color: #d4ebff;}#sk-container-id-3 div.sk-parallel-item::after {content: \"\";width: 100%;border-bottom: 1px solid gray;flex-grow: 1;}#sk-container-id-3 div.sk-label:hover label.sk-toggleable__label {background-color: #d4ebff;}#sk-container-id-3 div.sk-serial::before {content: \"\";position: absolute;border-left: 1px solid gray;box-sizing: border-box;top: 0;bottom: 0;left: 50%;z-index: 0;}#sk-container-id-3 div.sk-serial {display: flex;flex-direction: column;align-items: center;background-color: white;padding-right: 0.2em;padding-left: 0.2em;position: relative;}#sk-container-id-3 div.sk-item {position: relative;z-index: 1;}#sk-container-id-3 div.sk-parallel {display: flex;align-items: stretch;justify-content: center;background-color: white;position: relative;}#sk-container-id-3 div.sk-item::before, #sk-container-id-3 div.sk-parallel-item::before {content: \"\";position: absolute;border-left: 1px solid gray;box-sizing: border-box;top: 0;bottom: 0;left: 50%;z-index: -1;}#sk-container-id-3 div.sk-parallel-item {display: flex;flex-direction: column;z-index: 1;position: relative;background-color: white;}#sk-container-id-3 div.sk-parallel-item:first-child::after {align-self: flex-end;width: 50%;}#sk-container-id-3 div.sk-parallel-item:last-child::after {align-self: flex-start;width: 50%;}#sk-container-id-3 div.sk-parallel-item:only-child::after {width: 0;}#sk-container-id-3 div.sk-dashed-wrapped {border: 1px dashed gray;margin: 0 0.4em 0.5em 0.4em;box-sizing: border-box;padding-bottom: 0.4em;background-color: white;}#sk-container-id-3 div.sk-label label {font-family: monospace;font-weight: bold;display: inline-block;line-height: 1.2em;}#sk-container-id-3 div.sk-label-container {text-align: center;}#sk-container-id-3 div.sk-container {/* jupyter's `normalize.less` sets `[hidden] { display: none; }` but bootstrap.min.css set `[hidden] { display: none !important; }` so we also need the `!important` here to be able to override the default hidden behavior on the sphinx rendered scikit-learn.org. See: https://github.com/scikit-learn/scikit-learn/issues/21755 */display: inline-block !important;position: relative;}#sk-container-id-3 div.sk-text-repr-fallback {display: none;}</style><div id=\"sk-container-id-3\" class=\"sk-top-container\"><div class=\"sk-text-repr-fallback\"><pre>BaggingClassifier(estimator=KNeighborsClassifier(), max_features=0.5,\n",
              "                  max_samples=0.5)</pre><b>In a Jupyter environment, please rerun this cell to show the HTML representation or trust the notebook. <br />On GitHub, the HTML representation is unable to render, please try loading this page with nbviewer.org.</b></div><div class=\"sk-container\" hidden><div class=\"sk-item sk-dashed-wrapped\"><div class=\"sk-label-container\"><div class=\"sk-label sk-toggleable\"><input class=\"sk-toggleable__control sk-hidden--visually\" id=\"sk-estimator-id-7\" type=\"checkbox\" ><label for=\"sk-estimator-id-7\" class=\"sk-toggleable__label sk-toggleable__label-arrow\">BaggingClassifier</label><div class=\"sk-toggleable__content\"><pre>BaggingClassifier(estimator=KNeighborsClassifier(), max_features=0.5,\n",
              "                  max_samples=0.5)</pre></div></div></div><div class=\"sk-parallel\"><div class=\"sk-parallel-item\"><div class=\"sk-item\"><div class=\"sk-label-container\"><div class=\"sk-label sk-toggleable\"><input class=\"sk-toggleable__control sk-hidden--visually\" id=\"sk-estimator-id-8\" type=\"checkbox\" ><label for=\"sk-estimator-id-8\" class=\"sk-toggleable__label sk-toggleable__label-arrow\">estimator: KNeighborsClassifier</label><div class=\"sk-toggleable__content\"><pre>KNeighborsClassifier()</pre></div></div></div><div class=\"sk-serial\"><div class=\"sk-item\"><div class=\"sk-estimator sk-toggleable\"><input class=\"sk-toggleable__control sk-hidden--visually\" id=\"sk-estimator-id-9\" type=\"checkbox\" ><label for=\"sk-estimator-id-9\" class=\"sk-toggleable__label sk-toggleable__label-arrow\">KNeighborsClassifier</label><div class=\"sk-toggleable__content\"><pre>KNeighborsClassifier()</pre></div></div></div></div></div></div></div></div></div></div>"
            ]
          },
          "metadata": {},
          "execution_count": 70
        }
      ]
    },
    {
      "cell_type": "code",
      "source": [
        "\"\"\"\n",
        "Now let's make some predictions. But first we need to transform X_test into the new feature space.\n",
        "It's generally recommended to apply the same dimensionality reduction (PCA transformation) to both\n",
        "the training and test datasets to ensure consistency in the feature representation.\n",
        "\"\"\"\n",
        "X_test_2 = pca.transform(X_test)\n",
        "\n",
        "bagging_clf.predict(X_test_2)"
      ],
      "metadata": {
        "colab": {
          "base_uri": "https://localhost:8080/"
        },
        "id": "p_uFeDRwrWL3",
        "outputId": "523bd2f6-7875-420f-feb0-a3ae7e6404ef"
      },
      "execution_count": null,
      "outputs": [
        {
          "output_type": "execute_result",
          "data": {
            "text/plain": [
              "array([1, 1, 1, ..., 1, 1, 0])"
            ]
          },
          "metadata": {},
          "execution_count": 92
        }
      ]
    },
    {
      "cell_type": "code",
      "source": [
        "# Now let's calculate the accuracy of the model, this next function compares the predictions for X_test_2 with its expected label in y_test\n",
        "bagging_clf.score(X_test_2, y_test)"
      ],
      "metadata": {
        "colab": {
          "base_uri": "https://localhost:8080/"
        },
        "id": "yPtO9WNJ7grr",
        "outputId": "b68fe110-b593-4a76-9b8e-eb028b6f9e52"
      },
      "execution_count": null,
      "outputs": [
        {
          "output_type": "execute_result",
          "data": {
            "text/plain": [
              "0.6507142857142857"
            ]
          },
          "metadata": {},
          "execution_count": 93
        }
      ]
    },
    {
      "cell_type": "code",
      "source": [
        "# The accuracy is around 0.65 which is really low, ideally speaking we'd like something that's at least 0.7. Let's try a different model.\n",
        "from sklearn.linear_model import LogisticRegression\n",
        "logreg_clf = LogisticRegression(random_state=0).fit(X_train_2, y_train)\n",
        "logreg_clf.predict(X_test_2)"
      ],
      "metadata": {
        "colab": {
          "base_uri": "https://localhost:8080/"
        },
        "id": "3H63XT3r7soG",
        "outputId": "5b1cf23f-4528-4ed1-df3d-f3efa9532ebf"
      },
      "execution_count": null,
      "outputs": [
        {
          "output_type": "execute_result",
          "data": {
            "text/plain": [
              "array([1, 1, 1, ..., 0, 1, 1])"
            ]
          },
          "metadata": {},
          "execution_count": 94
        }
      ]
    },
    {
      "cell_type": "code",
      "source": [
        "# This has an accuracy score of about 0.72, so it seems like the Logistic Regression classifier is a better choice\n",
        "logreg_clf.score(X_test_2, y_test)"
      ],
      "metadata": {
        "colab": {
          "base_uri": "https://localhost:8080/"
        },
        "id": "wsXf1MoL8QzO",
        "outputId": "bf5c0ef8-5f5a-41fb-d755-049e30edc0da"
      },
      "execution_count": null,
      "outputs": [
        {
          "output_type": "execute_result",
          "data": {
            "text/plain": [
              "0.7235"
            ]
          },
          "metadata": {},
          "execution_count": 80
        }
      ]
    },
    {
      "cell_type": "markdown",
      "source": [],
      "metadata": {
        "id": "rLrWUgzF-q2g"
      }
    },
    {
      "cell_type": "code",
      "source": [
        "# Now let's try one more to see if we can get a better score\n",
        "from sklearn.neural_network import MLPClassifier\n",
        "mlp_clf = MLPClassifier(solver='lbfgs', alpha=1e-5,\n",
        "                    hidden_layer_sizes=(5, 2), random_state=1)\n",
        "\n",
        "mlp_clf.fit(X_train_2, y_train)"
      ],
      "metadata": {
        "colab": {
          "base_uri": "https://localhost:8080/",
          "height": 208
        },
        "id": "bWvr6v1z8zlq",
        "outputId": "3ffe4a44-c62c-4fda-f3de-e1fb6d84eb99"
      },
      "execution_count": null,
      "outputs": [
        {
          "output_type": "stream",
          "name": "stderr",
          "text": [
            "/usr/local/lib/python3.10/dist-packages/sklearn/neural_network/_multilayer_perceptron.py:541: ConvergenceWarning: lbfgs failed to converge (status=1):\n",
            "STOP: TOTAL NO. of ITERATIONS REACHED LIMIT.\n",
            "\n",
            "Increase the number of iterations (max_iter) or scale the data as shown in:\n",
            "    https://scikit-learn.org/stable/modules/preprocessing.html\n",
            "  self.n_iter_ = _check_optimize_result(\"lbfgs\", opt_res, self.max_iter)\n"
          ]
        },
        {
          "output_type": "execute_result",
          "data": {
            "text/plain": [
              "MLPClassifier(alpha=1e-05, hidden_layer_sizes=(5, 2), random_state=1,\n",
              "              solver='lbfgs')"
            ],
            "text/html": [
              "<style>#sk-container-id-4 {color: black;background-color: white;}#sk-container-id-4 pre{padding: 0;}#sk-container-id-4 div.sk-toggleable {background-color: white;}#sk-container-id-4 label.sk-toggleable__label {cursor: pointer;display: block;width: 100%;margin-bottom: 0;padding: 0.3em;box-sizing: border-box;text-align: center;}#sk-container-id-4 label.sk-toggleable__label-arrow:before {content: \"▸\";float: left;margin-right: 0.25em;color: #696969;}#sk-container-id-4 label.sk-toggleable__label-arrow:hover:before {color: black;}#sk-container-id-4 div.sk-estimator:hover label.sk-toggleable__label-arrow:before {color: black;}#sk-container-id-4 div.sk-toggleable__content {max-height: 0;max-width: 0;overflow: hidden;text-align: left;background-color: #f0f8ff;}#sk-container-id-4 div.sk-toggleable__content pre {margin: 0.2em;color: black;border-radius: 0.25em;background-color: #f0f8ff;}#sk-container-id-4 input.sk-toggleable__control:checked~div.sk-toggleable__content {max-height: 200px;max-width: 100%;overflow: auto;}#sk-container-id-4 input.sk-toggleable__control:checked~label.sk-toggleable__label-arrow:before {content: \"▾\";}#sk-container-id-4 div.sk-estimator input.sk-toggleable__control:checked~label.sk-toggleable__label {background-color: #d4ebff;}#sk-container-id-4 div.sk-label input.sk-toggleable__control:checked~label.sk-toggleable__label {background-color: #d4ebff;}#sk-container-id-4 input.sk-hidden--visually {border: 0;clip: rect(1px 1px 1px 1px);clip: rect(1px, 1px, 1px, 1px);height: 1px;margin: -1px;overflow: hidden;padding: 0;position: absolute;width: 1px;}#sk-container-id-4 div.sk-estimator {font-family: monospace;background-color: #f0f8ff;border: 1px dotted black;border-radius: 0.25em;box-sizing: border-box;margin-bottom: 0.5em;}#sk-container-id-4 div.sk-estimator:hover {background-color: #d4ebff;}#sk-container-id-4 div.sk-parallel-item::after {content: \"\";width: 100%;border-bottom: 1px solid gray;flex-grow: 1;}#sk-container-id-4 div.sk-label:hover label.sk-toggleable__label {background-color: #d4ebff;}#sk-container-id-4 div.sk-serial::before {content: \"\";position: absolute;border-left: 1px solid gray;box-sizing: border-box;top: 0;bottom: 0;left: 50%;z-index: 0;}#sk-container-id-4 div.sk-serial {display: flex;flex-direction: column;align-items: center;background-color: white;padding-right: 0.2em;padding-left: 0.2em;position: relative;}#sk-container-id-4 div.sk-item {position: relative;z-index: 1;}#sk-container-id-4 div.sk-parallel {display: flex;align-items: stretch;justify-content: center;background-color: white;position: relative;}#sk-container-id-4 div.sk-item::before, #sk-container-id-4 div.sk-parallel-item::before {content: \"\";position: absolute;border-left: 1px solid gray;box-sizing: border-box;top: 0;bottom: 0;left: 50%;z-index: -1;}#sk-container-id-4 div.sk-parallel-item {display: flex;flex-direction: column;z-index: 1;position: relative;background-color: white;}#sk-container-id-4 div.sk-parallel-item:first-child::after {align-self: flex-end;width: 50%;}#sk-container-id-4 div.sk-parallel-item:last-child::after {align-self: flex-start;width: 50%;}#sk-container-id-4 div.sk-parallel-item:only-child::after {width: 0;}#sk-container-id-4 div.sk-dashed-wrapped {border: 1px dashed gray;margin: 0 0.4em 0.5em 0.4em;box-sizing: border-box;padding-bottom: 0.4em;background-color: white;}#sk-container-id-4 div.sk-label label {font-family: monospace;font-weight: bold;display: inline-block;line-height: 1.2em;}#sk-container-id-4 div.sk-label-container {text-align: center;}#sk-container-id-4 div.sk-container {/* jupyter's `normalize.less` sets `[hidden] { display: none; }` but bootstrap.min.css set `[hidden] { display: none !important; }` so we also need the `!important` here to be able to override the default hidden behavior on the sphinx rendered scikit-learn.org. See: https://github.com/scikit-learn/scikit-learn/issues/21755 */display: inline-block !important;position: relative;}#sk-container-id-4 div.sk-text-repr-fallback {display: none;}</style><div id=\"sk-container-id-4\" class=\"sk-top-container\"><div class=\"sk-text-repr-fallback\"><pre>MLPClassifier(alpha=1e-05, hidden_layer_sizes=(5, 2), random_state=1,\n",
              "              solver=&#x27;lbfgs&#x27;)</pre><b>In a Jupyter environment, please rerun this cell to show the HTML representation or trust the notebook. <br />On GitHub, the HTML representation is unable to render, please try loading this page with nbviewer.org.</b></div><div class=\"sk-container\" hidden><div class=\"sk-item\"><div class=\"sk-estimator sk-toggleable\"><input class=\"sk-toggleable__control sk-hidden--visually\" id=\"sk-estimator-id-10\" type=\"checkbox\" checked><label for=\"sk-estimator-id-10\" class=\"sk-toggleable__label sk-toggleable__label-arrow\">MLPClassifier</label><div class=\"sk-toggleable__content\"><pre>MLPClassifier(alpha=1e-05, hidden_layer_sizes=(5, 2), random_state=1,\n",
              "              solver=&#x27;lbfgs&#x27;)</pre></div></div></div></div></div>"
            ]
          },
          "metadata": {},
          "execution_count": 86
        }
      ]
    },
    {
      "cell_type": "code",
      "source": [
        "mlp_clf.predict(X_test_2)\n",
        "# 0.73, marginal, but still a better result than the last two models.\n",
        "mlp_clf.score(X_test_2, y_test)"
      ],
      "metadata": {
        "colab": {
          "base_uri": "https://localhost:8080/"
        },
        "id": "blosHdGr9eoq",
        "outputId": "f18e0a37-e5f6-44fd-d9a9-8a65e669c41c"
      },
      "execution_count": null,
      "outputs": [
        {
          "output_type": "execute_result",
          "data": {
            "text/plain": [
              "0.7311428571428571"
            ]
          },
          "metadata": {},
          "execution_count": 152
        }
      ]
    },
    {
      "cell_type": "code",
      "source": [
        "\"\"\"\n",
        "Let's also take a look at it's confusion matrix to understand how likely it is to make predictions that are\n",
        "false negative, true positives, etc.\n",
        "\"\"\"\n",
        "from sklearn.metrics import confusion_matrix\n",
        "import seaborn as sns\n",
        "\n",
        "y_pred = mlp_clf.predict(X_test_2)\n",
        "cf_matrix = confusion_matrix(y_test, y_pred)\n",
        "\n",
        "sns.heatmap(cf_matrix, annot=True, fmt=\"d\", cmap=\"magma\")\n",
        "\n",
        "plt.xlabel('Predicted')\n",
        "plt.ylabel('Actual')\n",
        "plt.title('Confusion Matrix Heatmap')\n",
        "plt.show()"
      ],
      "metadata": {
        "colab": {
          "base_uri": "https://localhost:8080/",
          "height": 471
        },
        "id": "Iwg7S7tIPJu0",
        "outputId": "df8b40e4-3235-48d4-95a1-7088bea64f99"
      },
      "execution_count": null,
      "outputs": [
        {
          "output_type": "display_data",
          "data": {
            "text/plain": [
              "<Figure size 640x480 with 2 Axes>"
            ],
            "image/png": "[encoded data removed]"
          },
          "metadata": {}
        }
      ]
    },
    {
      "cell_type": "code",
      "source": [
        "\"\"\"\n",
        "Now let's make a prediction:\n",
        "Let's say we have a patient, Mark, born on April 6, 1982 (15,180 days old) male (value of 2) who is about 178m tall, weighing in at about 112kg.\n",
        "He has a systolic blood pressure of 110 and a diastolic blood pressure of 90. His cholestrol is normal (value of 1),\n",
        "however his glucose levels are above normal (value of 2). He's not a smoker (value of 0), he does drink a fair bit (value of 1),\n",
        "and he plays rugby every weekend and trains with the club every Tuesday evening as well as has a few gym sessions in the week too.\n",
        "\"\"\"\n",
        "\n",
        "from datetime import date\n",
        "\n",
        "marks_stats = {\n",
        "    'birthday': '1982-06-04',\n",
        "    'gender': 'M',\n",
        "    'height': 178,\n",
        "    'weight': 112.0,\n",
        "    'systolic_bp': 110,\n",
        "    'diastolic_bp':90,\n",
        "    'cholesterol': 'normal',\n",
        "    'glucose': 'normal',\n",
        "    'smoker': False,\n",
        "    'alcohol_intake': True,\n",
        "    'active': True\n",
        "}\n",
        "\n",
        "#Let's make a predictor function to do all the work for us\n",
        "def mlp_heart_disease_predictor(patient_stats):\n",
        "  # Convert the stats into a suitable format and reshape the result to the right dimensions\n",
        "  nparray = np.array(stats_conversion(mark_stats)).reshape(1,11)\n",
        "\n",
        "  # Apply PCA transformation\n",
        "  patient_stats_pca=pca.transform(nparray)\n",
        "  # Make prediction\n",
        "  return mlp_clf.predict(patient_stats_pca)\n",
        "\n",
        "def stats_conversion(raw_patient_stats):\n",
        "  converted_stats = {\n",
        "      'birthday':  get_days_from_bday(raw_patient_stats['birthday']),\n",
        "      'gender': 1 if raw_patient_stats['gender'] == 'F' else 2,\n",
        "      'height': raw_patient_stats['height'],\n",
        "      'weight': raw_patient_stats['weight'],\n",
        "      'systolic_bp': raw_patient_stats['systolic_bp'],\n",
        "      'diastolic_bp': raw_patient_stats['diastolic_bp'],\n",
        "      'cholesterol': get_cholesterol_index(raw_patient_stats['cholesterol']),\n",
        "      'glucose': get_glucose_index(raw_patient_stats['glucose']),\n",
        "      'smoker': 1 if raw_patient_stats['smoker'] else 0,\n",
        "      'alcohol_intake': 1 if raw_patient_stats['alcohol_intake'] else 0,\n",
        "      'active': 1 if raw_patient_stats['active'] else 0,\n",
        "  }\n",
        "  converted_stats_as_list = [value for key, value in converted_stats.items()]\n",
        "  return converted_stats_as_list\n",
        "\n",
        "def get_days_from_bday(original_birthday_input):\n",
        "# Birthday - convert the date given into the Pythonic date format.\n",
        "  bday_date = date(*map(int, original_birthday_input.split('-')))\n",
        "  today_date = date.today()\n",
        "  return (today_date - bday_date).days\n",
        "\n",
        "def get_cholesterol_index(original_cholesterol_input):\n",
        "  match original_cholesterol_input:\n",
        "    case 'normal':\n",
        "      return 1\n",
        "    case 'above normal':\n",
        "      return 2\n",
        "    case 'well above normal':\n",
        "      return 3\n",
        "\n",
        "def get_glucose_index(original_glucose_input):\n",
        "  match original_glucose_input:\n",
        "    case 'normal':\n",
        "      return 1\n",
        "    case 'above normal':\n",
        "      return 2\n",
        "    case 'well above normal':\n",
        "      return 3\n",
        "# mlp_heart_disease_predictor(mark_stats)\n",
        "mlp_heart_disease_predictor(marks_stats)\n"
      ],
      "metadata": {
        "colab": {
          "base_uri": "https://localhost:8080/"
        },
        "id": "VSZHWD7G-vEf",
        "outputId": "8ea896f7-fc70-471f-fdaf-59d3494c6d4b"
      },
      "execution_count": null,
      "outputs": [
        {
          "output_type": "execute_result",
          "data": {
            "text/plain": [
              "array([1])"
            ]
          },
          "metadata": {},
          "execution_count": 151
        }
      ]
    }
  ]
}