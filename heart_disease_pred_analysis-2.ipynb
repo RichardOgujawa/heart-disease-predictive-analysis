{
  "nbformat": 4,
  "nbformat_minor": 0,
  "metadata": {
    "colab": {
      "provenance": []
    },
    "kernelspec": {
      "name": "python3",
      "display_name": "Python 3"
    },
    "language_info": {
      "name": "python"
    }
  },
  "cells": [
    {
      "cell_type": "markdown",
      "source": [
        "# Load Data"
      ],
      "metadata": {
        "id": "SwVrACQoWcyS"
      }
    },
    {
      "cell_type": "code",
      "execution_count": 3,
      "metadata": {
        "id": "fJ8-Mo5_UZcd"
      },
      "outputs": [],
      "source": [
        "# The goal of this predictive analysis is to be able to take predict the if someone is likely to have\n",
        "# Heart Disease or not.\n",
        "\n",
        "import pandas as pd\n",
        "\n",
        "# First step it to load data into a dataframe\n",
        "# The header is set to be the first row of the dataset\n",
        "# The file is a semi-colon separated file, so we'll set sep=';'\n",
        "heart_disease_df = pd.read_csv('heart_disease.csv', header=[0], sep=';')"
      ]
    },
    {
      "cell_type": "markdown",
      "source": [
        "# Data Transformation"
      ],
      "metadata": {
        "id": "nTYStW6pWbQ1"
      }
    },
    {
      "cell_type": "code",
      "source": [
        "# Some of the column names are a little bit ambiguous, so they will be fleshed out a little bit.\n",
        "\"\"\"\n",
        "According to the dataset:\n",
        "- 'ap_hi' is the 'Systolic Blood Pressure',\n",
        "- 'ap_lo' is the 'Diastolic Blood pressure',\n",
        "- 'smoke' identifies whether they're a smoker or not.\n",
        "- 'cardio' is the presence or absence of 'Cardiovasculaer Disease',\n",
        "- 'alco' means 'Alcohol Intake',\n",
        "- 'gluc' means 'Glucose Levels'\n",
        "\"\"\"\n",
        "# We'll use inplace set to True to replace the df instead of creating a new one\n",
        "heart_disease_df.rename(columns={'ap_hi': 'systolic_bp', 'ap_lo': 'diastolic_bp', 'gluc': 'glucose', 'smoke': 'smoker', 'alco': 'alcohol_intake', \\\n",
        "                                 'cardio': 'heart_disease'}, inplace=True)"
      ],
      "metadata": {
        "id": "epEPAf8YWYaz"
      },
      "execution_count": 4,
      "outputs": []
    },
    {
      "cell_type": "code",
      "source": [
        "# Predictions can't be made if there are missing values in the rows, so first check if there are any missing values.\n",
        "any_missing_values = heart_disease_df.isnull().any().any()\n",
        "print(any_missing_values)"
      ],
      "metadata": {
        "colab": {
          "base_uri": "https://localhost:8080/"
        },
        "id": "GdX2OiAmYSIs",
        "outputId": "efa66889-56c7-4fe9-fced-41d891c1abb4"
      },
      "execution_count": 9,
      "outputs": [
        {
          "output_type": "stream",
          "name": "stdout",
          "text": [
            "False\n"
          ]
        }
      ]
    },
    {
      "cell_type": "markdown",
      "source": [
        "# Feature Engineering"
      ],
      "metadata": {
        "id": "ZwR0OcrRcJMw"
      }
    },
    {
      "cell_type": "code",
      "source": [
        "# For this prediction, the label will be the heart_disease column. So get rid of the id column as it has no effect on the label.\n",
        "heart_disease_df_2 = heart_disease_df.drop(['id'], axis=1, inplace=False)\n",
        "\n",
        "# Now for the Features and Corresponding Labels\n",
        "# Axis set to 1 means drop columns as opposed to dropping rows\n",
        "X = heart_disease_df_2.drop(['heart_disease'], axis=1)\n",
        "y = heart_disease_df_2['heart_disease']\n",
        "print(f\"FEATURES: \\n {X} \\n\\n LABELS: \\n {y}\")"
      ],
      "metadata": {
        "colab": {
          "base_uri": "https://localhost:8080/"
        },
        "id": "V2GNJw_OaAFT",
        "outputId": "0bc7b61d-6a70-486d-d063-062e9f7f668b"
      },
      "execution_count": 19,
      "outputs": [
        {
          "output_type": "stream",
          "name": "stdout",
          "text": [
            "FEATURES: \n",
            "          age  gender  height  weight  systolic_bp  diastolic_bp  cholesterol  \\\n",
            "0      18393       2     168    62.0          110            80            1   \n",
            "1      20228       1     156    85.0          140            90            3   \n",
            "2      18857       1     165    64.0          130            70            3   \n",
            "3      17623       2     169    82.0          150           100            1   \n",
            "4      17474       1     156    56.0          100            60            1   \n",
            "...      ...     ...     ...     ...          ...           ...          ...   \n",
            "69995  19240       2     168    76.0          120            80            1   \n",
            "69996  22601       1     158   126.0          140            90            2   \n",
            "69997  19066       2     183   105.0          180            90            3   \n",
            "69998  22431       1     163    72.0          135            80            1   \n",
            "69999  20540       1     170    72.0          120            80            2   \n",
            "\n",
            "       glucose  smoker  alcohol_intake  active  \n",
            "0            1       0               0       1  \n",
            "1            1       0               0       1  \n",
            "2            1       0               0       0  \n",
            "3            1       0               0       1  \n",
            "4            1       0               0       0  \n",
            "...        ...     ...             ...     ...  \n",
            "69995        1       1               0       1  \n",
            "69996        2       0               0       1  \n",
            "69997        1       0               1       0  \n",
            "69998        2       0               0       0  \n",
            "69999        1       0               0       1  \n",
            "\n",
            "[70000 rows x 11 columns] \n",
            "\n",
            " LABELS: \n",
            " 0        0\n",
            "1        1\n",
            "2        1\n",
            "3        1\n",
            "4        0\n",
            "        ..\n",
            "69995    0\n",
            "69996    1\n",
            "69997    1\n",
            "69998    1\n",
            "69999    0\n",
            "Name: heart_disease, Length: 70000, dtype: int64\n"
          ]
        }
      ]
    },
    {
      "cell_type": "code",
      "source": [
        "\"\"\"\n",
        "# To ensure the best quality features, Principal Component Analysis (PCA) will be applied.\n",
        "# This is a process whereby the features are first standardized to a given scale, a covariance matrix is then created to understand how different\n",
        "features relate to one another. Next eigendecomposition is done to get a set of eigenvectors and eigenvalues. The eigenvectors indicate\n",
        "the direction in which the data varies most, and the eigenvalues indicate the magnitude of the variance in that given direction. The eigenvectors\n",
        "are sorted in descending order based on their eigenvalues, and the top eigenvectors are selected given that they represent the components with the most\n",
        "amount of variance. The original data is then projected onto the new feature space formed by the selected principal components.\n",
        "This transformation results in a new set of uncorrelated features, which is the goal of PCA.\n",
        "\"\"\"\n",
        "from sklearn.preprocessing import StandardScaler\n",
        "from sklearn.decomposition import PCA\n",
        "\n",
        "X = StandardScaler().fit_transform(X)\n",
        "pca = PCA(n_components=11)\n",
        "X2 = pca.fit_transform(X)"
      ],
      "metadata": {
        "id": "HjQCkUwFcGmE"
      },
      "execution_count": 22,
      "outputs": []
    },
    {
      "cell_type": "code",
      "source": [
        "import numpy as np\n",
        "import matplotlib\n",
        "import matplotlib.pyplot as plt\n",
        "# Not all the components may be required to explain a large percentage of the variance in the dataset.\n",
        "# To check the contribution of each component the cumulatice sum of the explained variance will be looked at both in matrix and graph form below.\n",
        "np.set_printoptions(suppress=True)\n",
        "\n",
        "# Matrix\n",
        "pc_vs_variance = np.cumsum(pca.explained_variance_ratio_)\n",
        "\n",
        "# Graph\n",
        "plt.plot(pc_vs_variance)\n",
        "# The lack of an elbow point in the cumulative explained variance graph suggests a somewhat consistent level of contribution across the components"
      ],
      "metadata": {
        "colab": {
          "base_uri": "https://localhost:8080/",
          "height": 445
        },
        "id": "oEgTdgbx0m8j",
        "outputId": "9c67d486-3198-452b-caba-b2dcfc3c4368"
      },
      "execution_count": 24,
      "outputs": [
        {
          "output_type": "execute_result",
          "data": {
            "text/plain": [
              "[<matplotlib.lines.Line2D at 0x7ce062978a60>]"
            ]
          },
          "metadata": {},
          "execution_count": 24
        },
        {
          "output_type": "display_data",
          "data": {
            "text/plain": [
              "<Figure size 640x480 with 1 Axes>"
            ],
            "image/png": "[encoded data removed]"
          },
          "metadata": {}
        }
      ]
    },
    {
      "cell_type": "markdown",
      "source": [
        "# Supervised Machine Learning"
      ],
      "metadata": {
        "id": "tpQ9bvtv40mU"
      }
    },
    {
      "cell_type": "code",
      "source": [
        "\"\"\"\n",
        "The model chosen to be trained is the Bagging Meta-estimator because of it's efforts in reducing overfitting and the variance of the base estimators,\n",
        "improving the stability and robustness of the ensemble. More on that here ==>\n",
        "https://www.linkedin.com/advice/1/what-pros-cons-using-ensemble-methods-ml-skills-algorithms\n",
        "\"\"\"\n",
        "from sklearn.ensemble import BaggingClassifier\n",
        "from sklearn.neighbors import KNeighborsClassifier\n",
        "\n",
        "\n",
        "from sklearn.metrics import mean_squared_error, r2_score\n",
        "from sklearn.model_selection import train_test_split\n",
        "\"\"\"\n",
        "Now prepare the data by splitting it into two parts. One part will be used for training the classifier into a suitable\n",
        "model to make predictions, and the remaining samples will be used as test samples to make predictions and test the newly formed model.\n",
        "\"\"\"\n",
        "# Sidenote:Random_state controls the shuffling applied to the data before applying the split.\n",
        "X_train, X_test, y_train, y_test = train_test_split(X, y, test_size=0.20, random_state=42)\n",
        "# Now fit PCA on the training data\n",
        "pca = PCA(n_components=11)\n",
        "X_train_2 = pca.fit_transform(X_train)\n",
        "\"\"\"\n",
        "How the model works: Bagging, or bootstrap aggregating, involves creating multiple models from different subsets of the training data, and then averaging\n",
        "or voting their predictions. The 'max_samples' parameter is the max number of samples to pull from X to train each base estimator. The 'max_features' parameter is the number\n",
        "of features to use to train each base estimator. Because the numbers passed in are floats (0.5) as opposed to integers it'll use 50% of the samples and 50% of the features.\n",
        "KNeighborsClassifier is the base estimator to fit on random subsets of the dataset, it works by finding the k nearest neighbour(s) the\n",
        "new data point is closest to, and uses their classes to predict what the class of the new data point should be.\n",
        "\"\"\"\n",
        "\n",
        "bagging_clf = BaggingClassifier(KNeighborsClassifier(),\n",
        "                            max_samples=0.5, max_features=0.5)\n",
        "\n",
        "# Now to train the model based on the trained data\n",
        "bagging_clf.fit(X_train_2,y_train)"
      ],
      "metadata": {
        "colab": {
          "base_uri": "https://localhost:8080/",
          "height": 116
        },
        "id": "_CrWo6nthmvz",
        "outputId": "f21d3eaf-ea63-4913-89f4-95682caa374c"
      },
      "execution_count": 25,
      "outputs": [
        {
          "output_type": "execute_result",
          "data": {
            "text/plain": [
              "BaggingClassifier(estimator=KNeighborsClassifier(), max_features=0.5,\n",
              "                  max_samples=0.5)"
            ],
            "text/html": [
              "<style>#sk-container-id-2 {color: black;background-color: white;}#sk-container-id-2 pre{padding: 0;}#sk-container-id-2 div.sk-toggleable {background-color: white;}#sk-container-id-2 label.sk-toggleable__label {cursor: pointer;display: block;width: 100%;margin-bottom: 0;padding: 0.3em;box-sizing: border-box;text-align: center;}#sk-container-id-2 label.sk-toggleable__label-arrow:before {content: \"▸\";float: left;margin-right: 0.25em;color: #696969;}#sk-container-id-2 label.sk-toggleable__label-arrow:hover:before {color: black;}#sk-container-id-2 div.sk-estimator:hover label.sk-toggleable__label-arrow:before {color: black;}#sk-container-id-2 div.sk-toggleable__content {max-height: 0;max-width: 0;overflow: hidden;text-align: left;background-color: #f0f8ff;}#sk-container-id-2 div.sk-toggleable__content pre {margin: 0.2em;color: black;border-radius: 0.25em;background-color: #f0f8ff;}#sk-container-id-2 input.sk-toggleable__control:checked~div.sk-toggleable__content {max-height: 200px;max-width: 100%;overflow: auto;}#sk-container-id-2 input.sk-toggleable__control:checked~label.sk-toggleable__label-arrow:before {content: \"▾\";}#sk-container-id-2 div.sk-estimator input.sk-toggleable__control:checked~label.sk-toggleable__label {background-color: #d4ebff;}#sk-container-id-2 div.sk-label input.sk-toggleable__control:checked~label.sk-toggleable__label {background-color: #d4ebff;}#sk-container-id-2 input.sk-hidden--visually {border: 0;clip: rect(1px 1px 1px 1px);clip: rect(1px, 1px, 1px, 1px);height: 1px;margin: -1px;overflow: hidden;padding: 0;position: absolute;width: 1px;}#sk-container-id-2 div.sk-estimator {font-family: monospace;background-color: #f0f8ff;border: 1px dotted black;border-radius: 0.25em;box-sizing: border-box;margin-bottom: 0.5em;}#sk-container-id-2 div.sk-estimator:hover {background-color: #d4ebff;}#sk-container-id-2 div.sk-parallel-item::after {content: \"\";width: 100%;border-bottom: 1px solid gray;flex-grow: 1;}#sk-container-id-2 div.sk-label:hover label.sk-toggleable__label {background-color: #d4ebff;}#sk-container-id-2 div.sk-serial::before {content: \"\";position: absolute;border-left: 1px solid gray;box-sizing: border-box;top: 0;bottom: 0;left: 50%;z-index: 0;}#sk-container-id-2 div.sk-serial {display: flex;flex-direction: column;align-items: center;background-color: white;padding-right: 0.2em;padding-left: 0.2em;position: relative;}#sk-container-id-2 div.sk-item {position: relative;z-index: 1;}#sk-container-id-2 div.sk-parallel {display: flex;align-items: stretch;justify-content: center;background-color: white;position: relative;}#sk-container-id-2 div.sk-item::before, #sk-container-id-2 div.sk-parallel-item::before {content: \"\";position: absolute;border-left: 1px solid gray;box-sizing: border-box;top: 0;bottom: 0;left: 50%;z-index: -1;}#sk-container-id-2 div.sk-parallel-item {display: flex;flex-direction: column;z-index: 1;position: relative;background-color: white;}#sk-container-id-2 div.sk-parallel-item:first-child::after {align-self: flex-end;width: 50%;}#sk-container-id-2 div.sk-parallel-item:last-child::after {align-self: flex-start;width: 50%;}#sk-container-id-2 div.sk-parallel-item:only-child::after {width: 0;}#sk-container-id-2 div.sk-dashed-wrapped {border: 1px dashed gray;margin: 0 0.4em 0.5em 0.4em;box-sizing: border-box;padding-bottom: 0.4em;background-color: white;}#sk-container-id-2 div.sk-label label {font-family: monospace;font-weight: bold;display: inline-block;line-height: 1.2em;}#sk-container-id-2 div.sk-label-container {text-align: center;}#sk-container-id-2 div.sk-container {/* jupyter's `normalize.less` sets `[hidden] { display: none; }` but bootstrap.min.css set `[hidden] { display: none !important; }` so we also need the `!important` here to be able to override the default hidden behavior on the sphinx rendered scikit-learn.org. See: https://github.com/scikit-learn/scikit-learn/issues/21755 */display: inline-block !important;position: relative;}#sk-container-id-2 div.sk-text-repr-fallback {display: none;}</style><div id=\"sk-container-id-2\" class=\"sk-top-container\"><div class=\"sk-text-repr-fallback\"><pre>BaggingClassifier(estimator=KNeighborsClassifier(), max_features=0.5,\n",
              "                  max_samples=0.5)</pre><b>In a Jupyter environment, please rerun this cell to show the HTML representation or trust the notebook. <br />On GitHub, the HTML representation is unable to render, please try loading this page with nbviewer.org.</b></div><div class=\"sk-container\" hidden><div class=\"sk-item sk-dashed-wrapped\"><div class=\"sk-label-container\"><div class=\"sk-label sk-toggleable\"><input class=\"sk-toggleable__control sk-hidden--visually\" id=\"sk-estimator-id-4\" type=\"checkbox\" ><label for=\"sk-estimator-id-4\" class=\"sk-toggleable__label sk-toggleable__label-arrow\">BaggingClassifier</label><div class=\"sk-toggleable__content\"><pre>BaggingClassifier(estimator=KNeighborsClassifier(), max_features=0.5,\n",
              "                  max_samples=0.5)</pre></div></div></div><div class=\"sk-parallel\"><div class=\"sk-parallel-item\"><div class=\"sk-item\"><div class=\"sk-label-container\"><div class=\"sk-label sk-toggleable\"><input class=\"sk-toggleable__control sk-hidden--visually\" id=\"sk-estimator-id-5\" type=\"checkbox\" ><label for=\"sk-estimator-id-5\" class=\"sk-toggleable__label sk-toggleable__label-arrow\">estimator: KNeighborsClassifier</label><div class=\"sk-toggleable__content\"><pre>KNeighborsClassifier()</pre></div></div></div><div class=\"sk-serial\"><div class=\"sk-item\"><div class=\"sk-estimator sk-toggleable\"><input class=\"sk-toggleable__control sk-hidden--visually\" id=\"sk-estimator-id-6\" type=\"checkbox\" ><label for=\"sk-estimator-id-6\" class=\"sk-toggleable__label sk-toggleable__label-arrow\">KNeighborsClassifier</label><div class=\"sk-toggleable__content\"><pre>KNeighborsClassifier()</pre></div></div></div></div></div></div></div></div></div></div>"
            ]
          },
          "metadata": {},
          "execution_count": 25
        }
      ]
    },
    {
      "cell_type": "code",
      "source": [
        "\"\"\"\n",
        "Now for some predictions. But first transform X_test into the new feature space.\n",
        "It's generally recommended to apply the same dimensionality reduction (PCA transformation) to both\n",
        "the training and test datasets to ensure consistency in the feature representation.\n",
        "\"\"\"\n",
        "X_test_2 = pca.transform(X_test)\n",
        "\n",
        "bagging_clf.predict(X_test_2)"
      ],
      "metadata": {
        "colab": {
          "base_uri": "https://localhost:8080/"
        },
        "id": "p_uFeDRwrWL3",
        "outputId": "ee10920c-3c0b-4826-9ca4-33275c4698f3"
      },
      "execution_count": 26,
      "outputs": [
        {
          "output_type": "execute_result",
          "data": {
            "text/plain": [
              "array([1, 1, 1, ..., 1, 1, 0])"
            ]
          },
          "metadata": {},
          "execution_count": 26
        }
      ]
    },
    {
      "cell_type": "code",
      "source": [
        "# Now the .score() method is used to calculate the accuracy of the model. The method compares the predictions for X_test_2 with their true values.\n",
        "bagging_clf.score(X_test_2, y_test)"
      ],
      "metadata": {
        "colab": {
          "base_uri": "https://localhost:8080/"
        },
        "id": "yPtO9WNJ7grr",
        "outputId": "a90fc1ef-8d27-4230-a3d4-80009cde1af5"
      },
      "execution_count": 27,
      "outputs": [
        {
          "output_type": "execute_result",
          "data": {
            "text/plain": [
              "0.654"
            ]
          },
          "metadata": {},
          "execution_count": 27
        }
      ]
    },
    {
      "cell_type": "code",
      "source": [
        "# The accuracy is around 0.65 which is really low, the goal is for it to be at the very least 0.7, (and of course the higher the better).\n",
        "# Trying a different model, Logistic Regression, an accuracy score of around 0.72 is obtained, so it seems like a better choice.\n",
        "from sklearn.linear_model import LogisticRegression\n",
        "logreg_clf = LogisticRegression(random_state=0).fit(X_train_2, y_train)\n",
        "logreg_clf.predict(X_test_2)\n",
        "logreg_clf.score(X_test_2, y_test)"
      ],
      "metadata": {
        "colab": {
          "base_uri": "https://localhost:8080/"
        },
        "id": "3H63XT3r7soG",
        "outputId": "88f7182a-e300-44ff-fb1e-29f9ef2a6b0a"
      },
      "execution_count": 32,
      "outputs": [
        {
          "output_type": "execute_result",
          "data": {
            "text/plain": [
              "0.7235"
            ]
          },
          "metadata": {},
          "execution_count": 32
        }
      ]
    },
    {
      "cell_type": "markdown",
      "source": [],
      "metadata": {
        "id": "rLrWUgzF-q2g"
      }
    },
    {
      "cell_type": "code",
      "source": [
        "# Now one more to if a higher score can be obtained.\n",
        "from sklearn.neural_network import MLPClassifier\n",
        "mlp_clf = MLPClassifier(solver='lbfgs', alpha=1e-5,\n",
        "                    hidden_layer_sizes=(10, 5), random_state=1, max_iter=300)\n",
        "\n",
        "mlp_clf.fit(X_train_2, y_train)\n",
        "mlp_clf.predict(X_test_2)\n",
        "# An accuracy score of about 0.74, marginal increase, but still a better result than the last two models.\n",
        "mlp_clf.score(X_test_2, y_test)"
      ],
      "metadata": {
        "colab": {
          "base_uri": "https://localhost:8080/"
        },
        "id": "bWvr6v1z8zlq",
        "outputId": "cc5c38d7-1b45-4e05-b26d-5275c0c92e24"
      },
      "execution_count": 36,
      "outputs": [
        {
          "output_type": "stream",
          "name": "stderr",
          "text": [
            "/usr/local/lib/python3.10/dist-packages/sklearn/neural_network/_multilayer_perceptron.py:541: ConvergenceWarning: lbfgs failed to converge (status=1):\n",
            "STOP: TOTAL NO. of ITERATIONS REACHED LIMIT.\n",
            "\n",
            "Increase the number of iterations (max_iter) or scale the data as shown in:\n",
            "    https://scikit-learn.org/stable/modules/preprocessing.html\n",
            "  self.n_iter_ = _check_optimize_result(\"lbfgs\", opt_res, self.max_iter)\n"
          ]
        },
        {
          "output_type": "execute_result",
          "data": {
            "text/plain": [
              "0.7371428571428571"
            ]
          },
          "metadata": {},
          "execution_count": 36
        }
      ]
    },
    {
      "cell_type": "code",
      "source": [
        "mlp_clf.predict(X_test_2)\n",
        "# 0.73, marginal, but still a better result than the last two models.\n",
        "mlp_clf.score(X_test_2, y_test)"
      ],
      "metadata": {
        "colab": {
          "base_uri": "https://localhost:8080/"
        },
        "id": "blosHdGr9eoq",
        "outputId": "f18e0a37-e5f6-44fd-d9a9-8a65e669c41c"
      },
      "execution_count": null,
      "outputs": [
        {
          "output_type": "execute_result",
          "data": {
            "text/plain": [
              "0.7311428571428571"
            ]
          },
          "metadata": {},
          "execution_count": 152
        }
      ]
    },
    {
      "cell_type": "code",
      "source": [
        "\"\"\"\n",
        "A Confusion Matrix is created to understand the model a little better and see how likely it is to make accurate and inaccurate predictions\n",
        "\"\"\"\n",
        "from sklearn.metrics import confusion_matrix\n",
        "import seaborn as sns\n",
        "\n",
        "# Create the matrix\n",
        "y_pred = mlp_clf.predict(X_test_2)\n",
        "cf_matrix = confusion_matrix(y_test, y_pred)\n",
        "\n",
        "# Create the heatmap from the matrix\n",
        "sns.heatmap(cf_matrix, annot=True, fmt=\"d\", cmap=\"magma\")\n",
        "\n",
        "# Plot it with some additional information around it\n",
        "plt.xlabel('Predicted')\n",
        "plt.ylabel('Actual')\n",
        "plt.title('Confusion Matrix Heatmap')\n",
        "plt.show()"
      ],
      "metadata": {
        "colab": {
          "base_uri": "https://localhost:8080/",
          "height": 471
        },
        "id": "Iwg7S7tIPJu0",
        "outputId": "65c4e5d8-007a-42c5-ae1f-1ffd302ed139"
      },
      "execution_count": 40,
      "outputs": [
        {
          "output_type": "display_data",
          "data": {
            "text/plain": [
              "<Figure size 640x480 with 2 Axes>"
            ],
            "image/png": "[encoded data removed]"
          },
          "metadata": {}
        }
      ]
    },
    {
      "cell_type": "code",
      "source": [
        "\"\"\"\n",
        "Now it's time to make a prediction:\n",
        "There's a imaginary patient called Mark, born on April 6, 1982 (15,180 days old) male, who is about 178m tall, weighing in at about 112kg.\n",
        "He has a systolic blood pressure of 110 and a diastolic blood pressure of 90. His cholestrol is normal, however his glucose levels are above normal.\n",
        "He's not a smoker, he does drink a lot however, especially after rugby games. He plays a match almost every weekend and trains with the club every Tuesday\n",
        "evening as well. He also frequents the gym each week too.\n",
        "\"\"\"\n",
        "\n",
        "from datetime import date\n",
        "\n",
        "# Initial Data\n",
        "marks_stats = {\n",
        "    'birthday': '1982-06-04',\n",
        "    'gender': 'M',\n",
        "    'height': 178,\n",
        "    'weight': 112.0,\n",
        "    'systolic_bp': 110,\n",
        "    'diastolic_bp':90,\n",
        "    'cholesterol': 'normal',\n",
        "    'glucose': 'normal',\n",
        "    'smoker': False,\n",
        "    'alcohol_intake': True,\n",
        "    'active': True\n",
        "}\n",
        "\n",
        "#This is a predictor function to take in the patient's stats, do some necessary transformations and the make a prediction.\n",
        "def mlp_heart_disease_predictor(patient_stats):\n",
        "  # Convert the stats into a suitable format and reshape the result to the right dimensions\n",
        "  nparray = np.array(stats_conversion(patient_stats)).reshape(1,11)\n",
        "\n",
        "  # Apply PCA transformation\n",
        "  patient_stats_pca=pca.transform(nparray)\n",
        "  # Make prediction\n",
        "  return mlp_clf.predict(patient_stats_pca)\n",
        "\n",
        "def stats_conversion(raw_patient_stats):\n",
        "  converted_stats = {\n",
        "      'birthday':  get_days_from_bday(raw_patient_stats['birthday']),\n",
        "      'gender': 1 if raw_patient_stats['gender'] == 'F' else 2,\n",
        "      'height': raw_patient_stats['height'],\n",
        "      'weight': raw_patient_stats['weight'],\n",
        "      'systolic_bp': raw_patient_stats['systolic_bp'],\n",
        "      'diastolic_bp': raw_patient_stats['diastolic_bp'],\n",
        "      'cholesterol': get_cholesterol_index(raw_patient_stats['cholesterol']),\n",
        "      'glucose': get_glucose_index(raw_patient_stats['glucose']),\n",
        "      'smoker': 1 if raw_patient_stats['smoker'] else 0,\n",
        "      'alcohol_intake': 1 if raw_patient_stats['alcohol_intake'] else 0,\n",
        "      'active': 1 if raw_patient_stats['active'] else 0,\n",
        "  }\n",
        "  converted_stats_as_list = [value for key, value in converted_stats.items()]\n",
        "  return converted_stats_as_list\n",
        "\n",
        "def get_days_from_bday(original_birthday_input):\n",
        "# Birthday - convert the date given into the Pythonic date format.\n",
        "  bday_date = date(*map(int, original_birthday_input.split('-')))\n",
        "  today_date = date.today()\n",
        "  return (today_date - bday_date).days\n",
        "\n",
        "def get_cholesterol_index(original_cholesterol_input):\n",
        "  match original_cholesterol_input:\n",
        "    case 'normal':\n",
        "      return 1\n",
        "    case 'above normal':\n",
        "      return 2\n",
        "    case 'well above normal':\n",
        "      return 3\n",
        "\n",
        "def get_glucose_index(original_glucose_input):\n",
        "  match original_glucose_input:\n",
        "    case 'normal':\n",
        "      return 1\n",
        "    case 'above normal':\n",
        "      return 2\n",
        "    case 'well above normal':\n",
        "      return 3\n",
        "\n",
        "mlp_heart_disease_predictor(marks_stats)\n"
      ],
      "metadata": {
        "colab": {
          "base_uri": "https://localhost:8080/"
        },
        "id": "VSZHWD7G-vEf",
        "outputId": "f3936acb-bcba-4584-f64e-9dabb04d1129"
      },
      "execution_count": 49,
      "outputs": [
        {
          "output_type": "execute_result",
          "data": {
            "text/plain": [
              "array([0])"
            ]
          },
          "metadata": {},
          "execution_count": 49
        }
      ]
    }
  ]
}